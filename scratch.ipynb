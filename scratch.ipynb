{
 "cells": [
  {
   "cell_type": "code",
   "execution_count": 39,
   "metadata": {},
   "outputs": [],
   "source": [
    "import yaml\n",
    "import pprint"
   ]
  },
  {
   "cell_type": "code",
   "execution_count": 40,
   "metadata": {},
   "outputs": [],
   "source": [
    "with open(\"available_arxiv_categories.yaml\") as f:\n",
    "    cat = yaml.load(f, Loader = yaml.FullLoader)"
   ]
  },
  {
   "cell_type": "code",
   "execution_count": 41,
   "metadata": {},
   "outputs": [
    {
     "name": "stdout",
     "output_type": "stream",
     "text": [
      "[0] astrophysics\n",
      "\tastro-ph.GA : Astrophysics_of_Galaxies\n",
      "\tastro-ph.CO : Cosmology_and_Nongalactic_Astrophysics\n",
      "\tastro-ph.EP : Earth_and_Planetary_Astrophysics\n",
      "\tastro-ph.HE : High_Energy_Astrophysical_Phenomena\n",
      "\tastro-ph.IM : Instrumentation_and_Methods_for_Astrophysics\n",
      "\tastro-ph.SR : Solar_and_Stellar_Astrophysics\n",
      "[1] condensed-matter\n",
      "\tcond-mat.dis-nn : Disordered_Systems_and_Neural_Networks\n",
      "\tcond-mat.mtrl-sci : Materials_Science\n",
      "\tcond-mat.mes-hall : Mesoscale_and_Nanoscale_Physics\n",
      "\tcond-mat.other : Other_Condensed_Matter\n",
      "\tcond-mat.quant-gas : Quantum_Gases\n",
      "\tcond-mat.soft : Soft_Condensed_Matter\n",
      "\tcond-mat.stat-mech : Statistical_Mechanics\n",
      "\tcond-mat.str-el : Strongly_Correlated_Electrons\n",
      "\tcond-mat.supr-con : Superconductivity\n"
     ]
    }
   ],
   "source": [
    "for id, key in enumerate(cat.keys()):\n",
    "    print(f\"[{id}]\", end=\" \")\n",
    "    print(key)\n",
    "    for item in cat[key]:\n",
    "        keys = item.keys()\n",
    "        for key in keys:\n",
    "            print(f\"\\t{key} : {item[key]}\")"
   ]
  },
  {
   "cell_type": "code",
   "execution_count": null,
   "metadata": {},
   "outputs": [],
   "source": []
  }
 ],
 "metadata": {
  "kernelspec": {
   "display_name": "base",
   "language": "python",
   "name": "python3"
  },
  "language_info": {
   "codemirror_mode": {
    "name": "ipython",
    "version": 3
   },
   "file_extension": ".py",
   "mimetype": "text/x-python",
   "name": "python",
   "nbconvert_exporter": "python",
   "pygments_lexer": "ipython3",
   "version": "3.11.5"
  }
 },
 "nbformat": 4,
 "nbformat_minor": 2
}
